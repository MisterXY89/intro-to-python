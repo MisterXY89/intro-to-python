{
  "nbformat": 4,
  "nbformat_minor": 0,
  "metadata": {
    "colab": {
      "name": "Intro to Python - Tasks for Session 1.ipynb",
      "provenance": []
    },
    "kernelspec": {
      "name": "python3",
      "display_name": "Python 3"
    },
    "language_info": {
      "name": "python"
    }
  },
  "cells": [
    {
      "cell_type": "markdown",
      "metadata": {
        "id": "zBGnNFIPOGWf"
      },
      "source": [
        "# Intro to Python - Session 1: Tasks\n",
        "\n",
        "## Tasks Section 1"
      ]
    },
    {
      "cell_type": "code",
      "metadata": {
        "id": "8dEFkD32OEBh"
      },
      "source": [
        "## ca. 10-15 min\n",
        "#------------------------------------------------------------------------------#\n",
        "# (1)\n",
        "# convert the value to a float and round it to the next thousand\n",
        "value = \"999.15\"\n",
        "\n",
        "# print out the string within <>: <\"I don't know.\", he said. \"What you think?\">"
      ],
      "execution_count": null,
      "outputs": []
    },
    {
      "cell_type": "code",
      "metadata": {
        "id": "HEsNB9N3OQOc"
      },
      "source": [
        "#------------------------------------------------------------------------------#\n",
        "# (2)\n",
        "# Create new variables for: your name, age and one hobby\n",
        "\n",
        "# print out a sentence containing all of your information\n",
        "\n",
        "\n",
        "# For the nex task, we have a carpool with 100 cars, in every car \n",
        "# there are 4 available seats. In total we have 30 drivers and 90 passangers\n",
        "# compute the carpool capacity (how many peaple can be transportet), \n",
        "# the average passengers per car, the number of empty cars and print out the results\n",
        "\n",
        "\n",
        "# as an addition make the total number of cars, available seats, driver and \n",
        "# passangers dependent on user input\n"
      ],
      "execution_count": null,
      "outputs": []
    },
    {
      "cell_type": "code",
      "metadata": {
        "id": "T_WQj-1ZOSPq"
      },
      "source": [
        "#------------------------------------------------------------------------------#\n",
        "# (3)\n",
        "# Fix the erros in the following lines in any way you like\n",
        "age = 12\n",
        "print('My age is \" + age \" and this isn't a problem')\n",
        "\n",
        "print(\"This is the last task in this \n",
        "exercise section!\")"
      ],
      "execution_count": null,
      "outputs": []
    },
    {
      "cell_type": "markdown",
      "metadata": {
        "id": "SoYUv1dGOeYj"
      },
      "source": [
        "## Tasks Section 2"
      ]
    },
    {
      "cell_type": "code",
      "metadata": {
        "id": "LqBvtrqTOdjg"
      },
      "source": [
        "# ca 15-20 min\n",
        "#------------------------------------------------------------------------------#\n",
        "# (1)\n",
        "# create a new list containing at least 5 values (ints or floats)\n",
        "\n",
        "\n",
        "# create a second list containing min. 2 values and extend your first list\n",
        "\n",
        "\n",
        "# get the sum of the largest two values\n",
        "\n"
      ],
      "execution_count": null,
      "outputs": []
    },
    {
      "cell_type": "code",
      "metadata": {
        "id": "hixeVBVKOu4O"
      },
      "source": [
        "#------------------------------------------------------------------------------#\n",
        "# (2)\n",
        "# print the last element of the names list without using reverse\n",
        "names = [\"Tilman\", \"Clara\", \"Maria\", \"Iven\", \"Emma\", \"Mo\"]\n",
        "\n",
        "\n",
        "# remove Emma from the list without writing Emma\n",
        "\n",
        "\n",
        "# remove the third name without using the index"
      ],
      "execution_count": null,
      "outputs": []
    },
    {
      "cell_type": "markdown",
      "metadata": {
        "id": "TbRwKbPZOydm"
      },
      "source": [
        "## Tasks Section 3"
      ]
    },
    {
      "cell_type": "code",
      "metadata": {
        "id": "cnYPThg2O0u8"
      },
      "source": [
        "# ca 15-20 min\n",
        "#------------------------------------------------------------------------------#\n",
        "# (1)\n",
        "# Create a dictionary with (made-up) informations about you.\n",
        "# Include a list of friends and a key:value pair with a dictionary as a value\n",
        "# for the names of family members and their \"role\" (brother, mother, ...)\n",
        "\n"
      ],
      "execution_count": null,
      "outputs": []
    },
    {
      "cell_type": "code",
      "metadata": {
        "id": "52h48PUbO3kG"
      },
      "source": [
        "#------------------------------------------------------------------------------#\n",
        "# (2)\n",
        "# print out the name of one of your relatives and their role like this:\n",
        "# My <role>'s name is <name>.\n",
        "\n",
        "\n"
      ],
      "execution_count": null,
      "outputs": []
    }
  ]
}