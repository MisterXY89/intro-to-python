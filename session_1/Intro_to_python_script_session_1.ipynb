{
  "nbformat": 4,
  "nbformat_minor": 0,
  "metadata": {
    "colab": {
      "name": "Intro_to_python.ipynb",
      "provenance": [],
      "toc_visible": true
    },
    "kernelspec": {
      "name": "python3",
      "display_name": "Python 3"
    },
    "language_info": {
      "name": "python"
    }
  },
  "cells": [
    {
      "cell_type": "markdown",
      "metadata": {
        "id": "E0ZkDHD67bMH"
      },
      "source": [
        "# Introduction to Python - Session 1\n"
      ]
    },
    {
      "cell_type": "markdown",
      "metadata": {
        "id": "KLQBVvBgP2Js"
      },
      "source": [
        "## Section 1: Printing, Calculator, Variables & Basic types"
      ]
    },
    {
      "cell_type": "markdown",
      "metadata": {
        "id": "ZAqfiIyVP6Y0"
      },
      "source": [
        "### Strings & Printing"
      ]
    },
    {
      "cell_type": "code",
      "metadata": {
        "id": "YpGP0z907Zlq"
      },
      "source": [
        "# Basic printing\n",
        "print(\"Hello World!\")\n",
        "\n",
        "# strings can be seperated/added via the plus sign\n",
        "print(\"My name is \" + \"Tilman!\")"
      ],
      "execution_count": null,
      "outputs": []
    },
    {
      "cell_type": "markdown",
      "metadata": {
        "id": "PQWP0MnlJMoq"
      },
      "source": [
        "**Escaping quotes** <br>\n",
        "A String is a sequence of characters, identified/between quotes: '', \"\".\n",
        "The second quote to a first one marks the end of the string. If we want to use quotes in our string we have to escape them or use other quotes as string delimiters"
      ]
    },
    {
      "cell_type": "code",
      "metadata": {
        "id": "pLu510NmJhvG"
      },
      "source": [
        "print('My name is O\\'Brian!')\n",
        "\n",
        "print(\"My name is O'Brian!\")\n",
        "\n",
        "print(\"\\\"Wow!\\\", he said.\")\n",
        "\n",
        "print('\"Wow!\", he said.')"
      ],
      "execution_count": null,
      "outputs": []
    },
    {
      "cell_type": "markdown",
      "metadata": {
        "id": "SdrWZ8KnJjIY"
      },
      "source": [
        "### Basic calculator\n",
        "We can perform any basic operation via the respective symbols, e.g:"
      ]
    },
    {
      "cell_type": "code",
      "metadata": {
        "colab": {
          "base_uri": "https://localhost:8080/"
        },
        "id": "ku9u4loRJqmT",
        "outputId": "a02e58e3-5fbf-45df-9dc7-a6f4c219c9a6"
      },
      "source": [
        "2+2\n",
        "1-1\n",
        "100*13\n",
        "123/98\n",
        "# modulo is supported as well\n",
        "30%2"
      ],
      "execution_count": 2,
      "outputs": [
        {
          "output_type": "execute_result",
          "data": {
            "text/plain": [
              "0"
            ]
          },
          "metadata": {
            "tags": []
          },
          "execution_count": 2
        }
      ]
    },
    {
      "cell_type": "markdown",
      "metadata": {
        "id": "PVnxjlufJzoy"
      },
      "source": [
        "The above works, however does not print anything (in normal python scripts) in order to display the result, we have to print it:"
      ]
    },
    {
      "cell_type": "code",
      "metadata": {
        "id": "0J0Kn6vYJuYS"
      },
      "source": [
        "print(2+2)\n",
        "print(123/98)\n",
        "print(30%2)"
      ],
      "execution_count": null,
      "outputs": []
    },
    {
      "cell_type": "markdown",
      "metadata": {
        "id": "tiD7pXo_KB3h"
      },
      "source": [
        "**PEMDAS** - Python follows PEMDAS (Punkt-vor-Strich):"
      ]
    },
    {
      "cell_type": "code",
      "metadata": {
        "id": "vffbYnVkKbsm"
      },
      "source": [
        "print(2+4*2)\n",
        "print((2+4)*2)"
      ],
      "execution_count": null,
      "outputs": []
    },
    {
      "cell_type": "code",
      "metadata": {
        "id": "xDWdHeS3KzFY"
      },
      "source": [
        "# Potencies work as well easily:\n",
        "print(2**3)\n",
        "print(5**2)"
      ],
      "execution_count": null,
      "outputs": []
    },
    {
      "cell_type": "markdown",
      "metadata": {
        "id": "LNYkofWBK6s_"
      },
      "source": [
        "### Variables\n",
        "If we want to store the result of our calculation or simply our name we can assign a value to a variable.\n",
        "\n",
        "**Choose meaningfull names!** (yt py)\n",
        "\n",
        "**Good practice / standard:** in python is 'snake case': <br>\n",
        "my_name, growth_per_year"
      ]
    },
    {
      "cell_type": "code",
      "metadata": {
        "id": "RWIdRiXkLEHZ"
      },
      "source": [
        "name = \"Tilman\"\n",
        "age = 22\n",
        "height = 1.78"
      ],
      "execution_count": null,
      "outputs": []
    },
    {
      "cell_type": "markdown",
      "metadata": {
        "id": "uOI3GYtRLH65"
      },
      "source": [
        "We can use variables in calculations, suppose I grew every year of my life the same amount:"
      ]
    },
    {
      "cell_type": "code",
      "metadata": {
        "id": "0vNcP9y8Ll_-"
      },
      "source": [
        "growth_per_year = height * 100 / age\n",
        "\n",
        "print(growth_per_year)"
      ],
      "execution_count": null,
      "outputs": []
    },
    {
      "cell_type": "code",
      "metadata": {
        "id": "sSw1cZCXLn-y"
      },
      "source": [
        "# if we want to print our growth per year combined with a string, like this:\n",
        "# My growth per year is: 8.1, we might think the following will work:\n",
        "print(\"My growth per year is: \" + growth_per_year) "
      ],
      "execution_count": null,
      "outputs": []
    },
    {
      "cell_type": "markdown",
      "metadata": {
        "id": "zeCrdow1LvI-"
      },
      "source": [
        "### Types\n",
        "There are different types in Python. The ones we focus on for now are: *integers, floats and strings*:\n",
        "\n",
        "#### Integers/int"
      ]
    },
    {
      "cell_type": "code",
      "metadata": {
        "id": "e81bwURaL9l0"
      },
      "source": [
        "persons = 10\n",
        "number_of_apples = 1203\n",
        "\n",
        "# if we want to update a value we can do this in two ways:\n",
        "persons = persons + 1\n",
        "print(persons)\n",
        "persons += 1\n",
        "print(persons)\n",
        "\n",
        "# this works for all operations:\n",
        "persons *= 2\n",
        "persons /= 10\n",
        "persons **= 2\n",
        "persons -= 1000\n",
        "print(persons)"
      ],
      "execution_count": null,
      "outputs": []
    },
    {
      "cell_type": "code",
      "metadata": {
        "id": "LfUHvMtuMJM2"
      },
      "source": [
        "# to check the type of a variable use the type function:\n",
        "print(type(persons))"
      ],
      "execution_count": null,
      "outputs": []
    },
    {
      "cell_type": "markdown",
      "metadata": {
        "id": "y1r8HRfoMx4n"
      },
      "source": [
        "#### Floats/float"
      ]
    },
    {
      "cell_type": "code",
      "metadata": {
        "id": "1D0AdGRvMQgl"
      },
      "source": [
        "# floats or float\n",
        "height = 2.02\n",
        "print(type(growth_per_year))"
      ],
      "execution_count": null,
      "outputs": []
    },
    {
      "cell_type": "markdown",
      "metadata": {
        "id": "1dSZoublMZ5Y"
      },
      "source": [
        "For floats we might want to round - this ca be done via the round function: <br>\n",
        "syntax: `round(number, round_position)` where: <br>\n",
        "round_position: 0 round 1er, -1 round 10er, -2 round 100er, \n",
        "1 round 0.x, 2 round 0.0x:"
      ]
    },
    {
      "cell_type": "code",
      "metadata": {
        "id": "u7L3jsiYMk44"
      },
      "source": [
        "print(round(height, 1))\n",
        "\n",
        "val = 126.471\n",
        "print(round(val, 0))\n",
        "print(round(val, -1))\n",
        "print(round(val, -2))\n",
        "print(round(val, 1))\n",
        "print(round(val, 2))"
      ],
      "execution_count": null,
      "outputs": []
    },
    {
      "cell_type": "markdown",
      "metadata": {
        "id": "MqxerRaiM5l7"
      },
      "source": [
        "#### Strings/str"
      ]
    },
    {
      "cell_type": "code",
      "metadata": {
        "id": "pB-LjqGBM79l"
      },
      "source": [
        "name = \"Leonhard Euler\"\n",
        "print(type(name))\n",
        "\n",
        "four = \"4\"\n",
        "four_word = \"four\"\n",
        "job = 'Mathematician'\n",
        "bio = \"\"\"was a Swiss mathematician, physicist, astronomer, geographer, \n",
        "logician and engineer who who made important and influential discoveries in \n",
        "many branches of mathematics, such as infinitesimal calculus and graph theory, \n",
        "while also making pioneering contributions to several branches such as topology \n",
        "and analytic number theory.\n",
        "\"\"\"\n",
        "source_url = \"https://en.wikipedia.org/wiki/Leonhard_Euler\"\n",
        "\n",
        "print(four)\n",
        "print(type(four))\n",
        "print(4)\n",
        "print(type(4))"
      ],
      "execution_count": null,
      "outputs": []
    },
    {
      "cell_type": "markdown",
      "metadata": {
        "id": "DnPflRPVNMQG"
      },
      "source": [
        "#### Convert values/types"
      ]
    },
    {
      "cell_type": "code",
      "metadata": {
        "id": "EjkNS9OLNRgC"
      },
      "source": [
        "float_age = float(age)\n",
        "int_height = int(height)\n",
        "four_int = int(four)\n",
        "# int + float = float\n",
        "str_growth_per_year = str(growth_per_year)"
      ],
      "execution_count": null,
      "outputs": []
    },
    {
      "cell_type": "code",
      "metadata": {
        "id": "ZDUPtZITNdJh"
      },
      "source": [
        "four_word_int = int(four_word) # error"
      ],
      "execution_count": null,
      "outputs": []
    },
    {
      "cell_type": "code",
      "metadata": {
        "id": "1jWr9WQ7NiGv"
      },
      "source": [
        "# so now we can print our growth:\n",
        "print(\"My growth per year is: \" + str_growth_per_year) \n",
        "\n",
        "# If we don't want to handle conversions of types for printing we can use \n",
        "# formatted strings: f\"... {variable} {another_variable}\":\n",
        "print(f\"My name is {name}\")\n",
        "print(f\"My growth per year is: {growth_per_year}\") "
      ],
      "execution_count": null,
      "outputs": []
    },
    {
      "cell_type": "markdown",
      "metadata": {
        "id": "sjqR-ZYpNl7N"
      },
      "source": [
        "#### Boolean"
      ]
    },
    {
      "cell_type": "code",
      "metadata": {
        "id": "s6k9p8a4NoAm"
      },
      "source": [
        "# A further data type is bool. There are two possible values:\n",
        "True\n",
        "False\n",
        "\n",
        "# when talking about if- else statements, they will be more important\n",
        "# for now we just want to present them\n",
        "\n",
        "has_pets = True"
      ],
      "execution_count": null,
      "outputs": []
    },
    {
      "cell_type": "markdown",
      "metadata": {
        "id": "GhHAK0m3Nqpy"
      },
      "source": [
        "### input()\n",
        "We can ask the user for input via the input function:"
      ]
    },
    {
      "cell_type": "code",
      "metadata": {
        "id": "JKlRSpXTNwPc"
      },
      "source": [
        "name = input()\n",
        "print(f\"Hi {name}!\")"
      ],
      "execution_count": null,
      "outputs": []
    },
    {
      "cell_type": "code",
      "metadata": {
        "id": "nxpVottZNxmR"
      },
      "source": [
        "# we can add a string/info to the prompt:\n",
        "# For better formatting we have to add a space or a new line (\\n)\n",
        "name = input(\"What is your name? \")\n",
        "print(f\"Hi {name}!\")"
      ],
      "execution_count": null,
      "outputs": []
    },
    {
      "cell_type": "code",
      "metadata": {
        "id": "_jPTidq7NzRY"
      },
      "source": [
        "# everthing that the input function returns is a string\n",
        "# so we may have to convert to the respective type\n",
        "age = int(input(\"How old are you? \\n> \"))\n",
        "print(f\"{age} years old, that's impressive!\")"
      ],
      "execution_count": null,
      "outputs": []
    },
    {
      "cell_type": "markdown",
      "metadata": {
        "id": "t1CjXGLAQBFY"
      },
      "source": [
        "## Section 2: More Types: Lists"
      ]
    },
    {
      "cell_type": "markdown",
      "metadata": {
        "id": "ceiwWchZQZV0"
      },
      "source": [
        "### List init\n",
        "Lists are a collection of elements of any type within two `[]` brackets:"
      ]
    },
    {
      "cell_type": "code",
      "metadata": {
        "id": "0uIQ5LrhQOgJ"
      },
      "source": [
        "friends = [\"Ben\", \"Maria\", \"Charly\"]\n",
        "print(type(friends))\n",
        "\n",
        "meassures = [13, 91, 84, 3.1, 83.4, 65]\n",
        "print(meassures)"
      ],
      "execution_count": null,
      "outputs": []
    },
    {
      "cell_type": "code",
      "metadata": {
        "id": "Zkhv3SSrQTJW"
      },
      "source": [
        "# initialize empty list\n",
        "my_fruits = []"
      ],
      "execution_count": 6,
      "outputs": []
    },
    {
      "cell_type": "markdown",
      "metadata": {
        "id": "jSA-PX-DQfuN"
      },
      "source": [
        "### List Methods"
      ]
    },
    {
      "cell_type": "markdown",
      "metadata": {
        "id": "pBHt8ZO4Qm2o"
      },
      "source": [
        "#### .append() \n",
        "Add new entries (used e.g. in dynamic creation of lists in for-loop -> later).\n",
        "\n",
        "**The first element of a list has the index `0`!**"
      ]
    },
    {
      "cell_type": "code",
      "metadata": {
        "colab": {
          "base_uri": "https://localhost:8080/"
        },
        "id": "lPlp8N51Qk4v",
        "outputId": "3ce55507-338b-4f55-8c0e-3f49ad09ccb7"
      },
      "source": [
        "my_fruits.append(\"apple\")\n",
        "print(my_fruits)"
      ],
      "execution_count": 7,
      "outputs": [
        {
          "output_type": "stream",
          "text": [
            "['apple']\n"
          ],
          "name": "stdout"
        }
      ]
    },
    {
      "cell_type": "code",
      "metadata": {
        "colab": {
          "base_uri": "https://localhost:8080/"
        },
        "id": "ZSHvbhFZRDEX",
        "outputId": "70b39b47-f335-4b4a-9ac7-6d3b1a16f487"
      },
      "source": [
        "my_fruits.append(\"apple\")\n",
        "my_fruits.append(\"apple\")\n",
        "my_fruits.append(\"melon\")\n",
        "my_fruits.append(\"peach\")\n",
        "my_fruits.append(\"strawberry\")\n",
        "print(my_fruits)"
      ],
      "execution_count": 8,
      "outputs": [
        {
          "output_type": "stream",
          "text": [
            "['apple', 'apple', 'apple', 'melon', 'peach', 'strawberry']\n"
          ],
          "name": "stdout"
        }
      ]
    },
    {
      "cell_type": "markdown",
      "metadata": {
        "id": "ZYGvkLH5RDwF"
      },
      "source": [
        "#### .extend()\n",
        "Concat/merge two lists:"
      ]
    },
    {
      "cell_type": "code",
      "metadata": {
        "id": "DACwUKN9RJPN"
      },
      "source": [
        "new_fruits = [\"pineapple\", \"banana\", \"kiwi\", \"lemon\", \"kiwi\"]\n",
        "\n",
        "# my_fruits.append(new_fruits)\n",
        "plus_list = my_fruits + new_fruits\n",
        "print(plus_list)\n",
        "my_fruits.extend(new_fruits)\n",
        "print(my_fruits)"
      ],
      "execution_count": null,
      "outputs": []
    },
    {
      "cell_type": "markdown",
      "metadata": {
        "id": "SWlrR5GMRMHW"
      },
      "source": [
        "#### .count() \n",
        "Count the number of occources of an element in an list"
      ]
    },
    {
      "cell_type": "code",
      "metadata": {
        "colab": {
          "base_uri": "https://localhost:8080/"
        },
        "id": "-WD6-UKeRRRD",
        "outputId": "e68ea008-beea-45c4-9b90-f92e9acc84c5"
      },
      "source": [
        "print(my_fruits.count(\"apple\"))"
      ],
      "execution_count": 9,
      "outputs": [
        {
          "output_type": "execute_result",
          "data": {
            "text/plain": [
              "3"
            ]
          },
          "metadata": {
            "tags": []
          },
          "execution_count": 9
        }
      ]
    },
    {
      "cell_type": "markdown",
      "metadata": {
        "id": "2fBx3bhORso6"
      },
      "source": [
        "#### .pop()\n",
        "Remove & return the last element - lists needs to be of min len 1. "
      ]
    },
    {
      "cell_type": "code",
      "metadata": {
        "id": "AvZ2-gAJRrnO"
      },
      "source": [
        "last_el = my_fruits.pop()\n",
        "print(last_el)\n",
        "print(my_fruits)\n",
        "\n",
        "my_fruits.pop()\n",
        "print(my_fruits)"
      ],
      "execution_count": null,
      "outputs": []
    },
    {
      "cell_type": "code",
      "metadata": {
        "id": "LDJEisN-R2vh"
      },
      "source": [
        "# alternatively we can also pop a specific element via giving the pop method \n",
        "# the index of the to-be-poped item:\n",
        "\n",
        "my_fruits.pop(0)"
      ],
      "execution_count": null,
      "outputs": []
    },
    {
      "cell_type": "markdown",
      "metadata": {
        "id": "YoVyJ9P-R7Ul"
      },
      "source": [
        "#### .remove() \n",
        "Remove a specific element from a list:"
      ]
    },
    {
      "cell_type": "code",
      "metadata": {
        "id": "EInZ3CqUR62b"
      },
      "source": [
        "my_fruits.remove(\"apple\")\n",
        "print(my_fruits)"
      ],
      "execution_count": null,
      "outputs": []
    },
    {
      "cell_type": "code",
      "metadata": {
        "id": "M173nw6BSBtz"
      },
      "source": [
        "# when there are multiple identical elements, only the first element gets removed\n",
        "my_fruits.remove(\"kiwi\")\n",
        "print(my_fruits)"
      ],
      "execution_count": null,
      "outputs": []
    },
    {
      "cell_type": "markdown",
      "metadata": {
        "id": "XJhSX0KASDZ4"
      },
      "source": [
        "#### .sort()\n",
        "Sort a list alpha-numerical."
      ]
    },
    {
      "cell_type": "code",
      "metadata": {
        "id": "l2gpJ435SIJ3"
      },
      "source": [
        "my_fruits.sort()\n",
        "print(my_fruits)\n",
        "\n",
        "meassures.sort()\n",
        "print(meassures)"
      ],
      "execution_count": null,
      "outputs": []
    },
    {
      "cell_type": "code",
      "metadata": {
        "id": "JWSA1UuRSKsh"
      },
      "source": [
        "new_list = meassures + my_fruits\n",
        "print(new_list)\n",
        "new_list.sort()\n",
        "\n",
        "# TypeError: '<' not supported between instances of 'int' and 'str'\n",
        "# conversion of all elements in lists can be achieved using map or list comprehension (later)"
      ],
      "execution_count": null,
      "outputs": []
    },
    {
      "cell_type": "markdown",
      "metadata": {
        "id": "4LRb3TLASQjb"
      },
      "source": [
        "#### .reverse()\n",
        "\n",
        "Reverses a list"
      ]
    },
    {
      "cell_type": "code",
      "metadata": {
        "id": "zSD-ie22Sefr"
      },
      "source": [
        "my_fruits.reverse()\n",
        "print(my_fruits)"
      ],
      "execution_count": null,
      "outputs": []
    },
    {
      "cell_type": "markdown",
      "metadata": {
        "id": "9Ix63trgSanm"
      },
      "source": [
        "#### sum()\n",
        "Summs up all values in a list (*all values have to be ints or floats*)!"
      ]
    },
    {
      "cell_type": "code",
      "metadata": {
        "id": "PECVAGD8SlMw"
      },
      "source": [
        "sum_of_meassures = sum(meassures)\n",
        "print(sum_of_meassures)\n",
        "\n",
        "print(sum([1,2,3,4,5,6,12]))"
      ],
      "execution_count": null,
      "outputs": []
    },
    {
      "cell_type": "markdown",
      "metadata": {
        "id": "_DUW91YeTdCM"
      },
      "source": [
        "#### .index()\n",
        "Sometimes you don't know the index of an element, in this case we can use \n",
        "the index() method. The element has to be in the list (not like in JS), else: <br>\n",
        "> ValueError: 'x' is not in list"
      ]
    },
    {
      "cell_type": "code",
      "metadata": {
        "id": "Ij2-ZgmrTmtw"
      },
      "source": [
        "print(my_fruits.index(\"lemon\"))"
      ],
      "execution_count": null,
      "outputs": []
    },
    {
      "cell_type": "code",
      "metadata": {
        "id": "Wd4dubKvTnps"
      },
      "source": [
        "# if a list contains one fruit/entry multiple times, the index for the first\n",
        "# occources gets returned (as it's the case for remove())\n",
        "my_fruits.append(\"lemon\")\n",
        "print(my_fruits.index(\"lemon\"))"
      ],
      "execution_count": null,
      "outputs": []
    },
    {
      "cell_type": "markdown",
      "metadata": {
        "id": "phYTGubOTu85"
      },
      "source": [
        "#### .clear()\n",
        "If we want to remove all elements from our list we can use the clear method:\n"
      ]
    },
    {
      "cell_type": "code",
      "metadata": {
        "id": "iFZYIZS3Trnl"
      },
      "source": [
        "my_fruits.clear()\n",
        "print(my_fruits)"
      ],
      "execution_count": null,
      "outputs": []
    },
    {
      "cell_type": "markdown",
      "metadata": {
        "id": "onhVNdOBSzot"
      },
      "source": [
        "### Cutting & Accesing via the index"
      ]
    },
    {
      "cell_type": "code",
      "metadata": {
        "id": "pVRJO7pXS_J7"
      },
      "source": [
        "# access the first element\n",
        "first = my_fruits[0] # -> returns first element"
      ],
      "execution_count": null,
      "outputs": []
    },
    {
      "cell_type": "code",
      "metadata": {
        "id": "cxV0znSmTG9Q"
      },
      "source": [
        "# we can update entries in a list using the index like this:\n",
        "my_fruits[0] = \"blue-berry\"\n",
        "print(my_fruits)"
      ],
      "execution_count": null,
      "outputs": []
    },
    {
      "cell_type": "code",
      "metadata": {
        "id": "0nPoP9fmTJv5"
      },
      "source": [
        "# you can cut simply using the ':' char\n",
        "# cut of first element / return everything after the first element\n",
        "# the my_fruits list stays the same!\n",
        "sliced_list = my_fruits[1:]\n",
        "print(sliced_list)"
      ],
      "execution_count": null,
      "outputs": []
    },
    {
      "cell_type": "code",
      "metadata": {
        "id": "qwFsC6KkTTI1"
      },
      "source": [
        "# cut of everything after the second element\n",
        "sliced_list = my_fruits[:2]"
      ],
      "execution_count": null,
      "outputs": []
    },
    {
      "cell_type": "markdown",
      "metadata": {
        "id": "K8qNGpF7TTm5"
      },
      "source": [
        "So the syntax is `[from:to]` with the defaults: <br>\n",
        "from = 0, to = len(list)-1 (last element)"
      ]
    },
    {
      "cell_type": "code",
      "metadata": {
        "id": "pT09hFbhTZbr"
      },
      "source": [
        "# get the length of a list:\n",
        "num_of_fruits = len(my_fruits)\n",
        "\n",
        "# last index is however:\n",
        "print(len(my_fruits) - 1)"
      ],
      "execution_count": null,
      "outputs": []
    },
    {
      "cell_type": "markdown",
      "metadata": {
        "id": "oPHfUGg3T6Tc"
      },
      "source": [
        "### Multiplying lists\n",
        "you can mulitply lists, basically repeating all elements *x times:"
      ]
    },
    {
      "cell_type": "code",
      "metadata": {
        "id": "S5TWc7dtT_h0"
      },
      "source": [
        "print([1,2]*4)"
      ],
      "execution_count": null,
      "outputs": []
    },
    {
      "cell_type": "markdown",
      "metadata": {
        "id": "rxkbpyWOUBxU"
      },
      "source": [
        "### Complex lists \n",
        "You can also combine types and create for example an info list for everybody:"
      ]
    },
    {
      "cell_type": "code",
      "metadata": {
        "id": "pxS1mciTUISt"
      },
      "source": [
        "age = 45\n",
        "name = \"Alex\"\n",
        "info = [age, name, friends]\n",
        "\n",
        "first_friend = info[2][0]\n",
        "\n",
        "info2 = [12, \"Ben\", [\"Alex\", \"Sena\", \"Leo\"]]\n",
        "\n",
        "all_infos = [info, info2]\n",
        "\n",
        "second_friend_from_ben = all_infos[1][2][1]"
      ],
      "execution_count": null,
      "outputs": []
    },
    {
      "cell_type": "markdown",
      "metadata": {
        "id": "jBe8gTyoUJ5F"
      },
      "source": [
        "A little messy -> for structured data & informations we can use dicts."
      ]
    },
    {
      "cell_type": "markdown",
      "metadata": {
        "id": "4srFlzcxUSNm"
      },
      "source": [
        "## Section 3 - Tuples & Dictionaries"
      ]
    },
    {
      "cell_type": "markdown",
      "metadata": {
        "id": "fIR2BND9UdVR"
      },
      "source": [
        "### Tuples\n",
        "Tuples are similar to lists - \n",
        "the difference between lists and tuples ist that tuples are not changeable and values ar within (), they are used to store multiple items in a single variable."
      ]
    },
    {
      "cell_type": "code",
      "metadata": {
        "id": "KUnCFQQSUnCM"
      },
      "source": [
        "coords = (2, 4, 2)\n",
        "print(type(coords))"
      ],
      "execution_count": null,
      "outputs": []
    },
    {
      "cell_type": "code",
      "metadata": {
        "id": "u26a6uNxUlxO"
      },
      "source": [
        "# accesing and indicies work the identical to lists\n",
        "print(coords[0])"
      ],
      "execution_count": null,
      "outputs": []
    },
    {
      "cell_type": "markdown",
      "metadata": {
        "id": "K69EJjF8UrzY"
      },
      "source": [
        "The only methods tuples have are the index and count method we talked about for lists. They work identical:"
      ]
    },
    {
      "cell_type": "code",
      "metadata": {
        "id": "V6YTSt6DUpu5"
      },
      "source": [
        "print(coords.count(2))\n",
        "\n",
        "# again, .index() only shows the index of the first found element\n",
        "print(coords.index(2))"
      ],
      "execution_count": null,
      "outputs": []
    },
    {
      "cell_type": "markdown",
      "metadata": {
        "id": "wWZ97WWgUxNB"
      },
      "source": [
        "Identical to lists we can also multiply tuples:"
      ]
    },
    {
      "cell_type": "code",
      "metadata": {
        "id": "uzOgLqMcUzZ6"
      },
      "source": [
        "print(coords * 2)"
      ],
      "execution_count": null,
      "outputs": []
    },
    {
      "cell_type": "markdown",
      "metadata": {
        "id": "77TFRlJdU2Fq"
      },
      "source": [
        "### Dicts\n",
        "A dict is a associative list:<br>\n",
        "in a list we can access elements via the index ([1]), in a dict we have key:value pairs and access elemts/values using a defined key. <br>\n",
        "**One important thing: dicts do not allow duplicates!** <br>\n",
        "Syntax is as follows:"
      ]
    },
    {
      "cell_type": "code",
      "metadata": {
        "id": "7Lmt7kYCU-SS"
      },
      "source": [
        "personal_info = {\"name\" : \"Tilman\"}\n",
        "print(type(personal_info))\n",
        "print(personal_info)"
      ],
      "execution_count": null,
      "outputs": []
    },
    {
      "cell_type": "markdown",
      "metadata": {
        "id": "HdFxLKITVB3p"
      },
      "source": [
        "For dicts wich hold more than one key-value pair the following is cleaner and clearer. <br>\n",
        "Of course we can aso use variables in dicts:"
      ]
    },
    {
      "cell_type": "code",
      "metadata": {
        "id": "yVzf6mp2VAQQ"
      },
      "source": [
        "my_job = \"student\"\n",
        "\n",
        "personal_info = {\n",
        "    \"name\": \"Tilman\",\n",
        "    \"job\": my_job,\n",
        "    \"height\": 1.78,\n",
        "}\n",
        "\n",
        "print(personal_info)"
      ],
      "execution_count": null,
      "outputs": []
    },
    {
      "cell_type": "code",
      "metadata": {
        "id": "ZuX93jnsVQwZ"
      },
      "source": [
        "# often lists of dictionaires are used, where every list entry represents one data point\n",
        "# e.g.: web scraping\n",
        "persons = [\n",
        "    personal_info,\n",
        "    {\n",
        "        \"name\": \"Charly\",\n",
        "        \"job\": \"Teacher\",\n",
        "        \"height\": 1.68\n",
        "    }\n",
        "]\n",
        "\n",
        "print(persons)"
      ],
      "execution_count": null,
      "outputs": []
    },
    {
      "cell_type": "markdown",
      "metadata": {
        "id": "7qsyxMUCVVkA"
      },
      "source": [
        "> For naming the keys it is common to use snake_case with all lower chars (as for variables)"
      ]
    },
    {
      "cell_type": "markdown",
      "metadata": {
        "id": "4lki8K98VdFG"
      },
      "source": [
        "#### .update()\n",
        "\n",
        "Update a dict: <br>\n",
        "if we want to update (add new key:value paires / update existing) a dict, we can use the update method. if the key we specify already exists, the method updates, else it appends."
      ]
    },
    {
      "cell_type": "code",
      "metadata": {
        "id": "SQmBIgQAVni5"
      },
      "source": [
        "personal_info.update({\n",
        "    \"height\": 1.69\n",
        "})\n",
        "print(personal_info)"
      ],
      "execution_count": null,
      "outputs": []
    },
    {
      "cell_type": "code",
      "metadata": {
        "id": "TeNKvAm3VpKa"
      },
      "source": [
        "personal_info.update({\n",
        "    \"has_pets\": True\n",
        "})\n",
        "print(personal_info)"
      ],
      "execution_count": null,
      "outputs": []
    },
    {
      "cell_type": "code",
      "metadata": {
        "id": "CKwRNHVTVqeF"
      },
      "source": [
        "personal_info.update({\n",
        "    \"has_pets\": False,\n",
        "    \"job\": \"Taxi Driver\"\n",
        "})\n",
        "\n",
        "print(personal_info)"
      ],
      "execution_count": null,
      "outputs": []
    },
    {
      "cell_type": "code",
      "metadata": {
        "id": "VGJIWVwVVt1j"
      },
      "source": [
        "# pay attention if you used a variable -> change the values here \n",
        "# -> updated everywhere\n",
        "print(persons)"
      ],
      "execution_count": null,
      "outputs": []
    },
    {
      "cell_type": "markdown",
      "metadata": {
        "id": "mKdXC6JSV-hA"
      },
      "source": [
        "#### .keys()\n",
        "Sometimes you may need all existing keys for a dict, you can get those via the keys method:"
      ]
    },
    {
      "cell_type": "code",
      "metadata": {
        "id": "RQSChFQOV-FN"
      },
      "source": [
        "print(personal_info.keys())"
      ],
      "execution_count": null,
      "outputs": []
    },
    {
      "cell_type": "markdown",
      "metadata": {
        "id": "eg9qa2OPVw2t"
      },
      "source": [
        "#### Update & Access via index/key\n",
        "Another way to update (similar to lists)"
      ]
    },
    {
      "cell_type": "code",
      "metadata": {
        "id": "fWwhAyoaV3Ne"
      },
      "source": [
        "personal_info[\"height\"] = 1.70"
      ],
      "execution_count": null,
      "outputs": []
    },
    {
      "cell_type": "code",
      "metadata": {
        "id": "xBU-UndPV30V"
      },
      "source": [
        "# accessing values works similar:\n",
        "my_height = personal_info[\"height\"]\n",
        "print(f\"My height is {personal_info['height']}\")"
      ],
      "execution_count": null,
      "outputs": []
    }
  ]
}